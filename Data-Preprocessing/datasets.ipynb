{
 "cells": [
  {
   "cell_type": "code",
   "execution_count": 5,
   "id": "b387a692",
   "metadata": {},
   "outputs": [],
   "source": [
    "import pandas as pd\n",
    "import os"
   ]
  },
  {
   "cell_type": "code",
   "execution_count": 6,
   "id": "f335afdc",
   "metadata": {},
   "outputs": [],
   "source": [
    "data = pd.read_excel(r\"C:\\Users\\user\\Desktop\\A_AI_DDSP\\Dataset\\raw\\Bevo╠êlkerungsdaten (Destatis)\\Destatis_Germany Population Historics and Forecasts.xlsx\")"
   ]
  },
  {
   "cell_type": "code",
   "execution_count": 9,
   "id": "c4f20c09",
   "metadata": {},
   "outputs": [
    {
     "data": {
      "text/plain": [
       "<bound method DataFrame.items of        Bevölkerung: Bundesländer, Stichtag, Altersjahre         Unnamed: 1  \\\n",
       "0                Fortschreibung des Bevölkerungsstandes                NaN   \n",
       "1                            Bevölkerungsstand (Anzahl)                NaN   \n",
       "2                                           Altersjahre       Bundesländer   \n",
       "3                                                   NaN  Baden-Württemberg   \n",
       "4                                            31.12.2010                NaN   \n",
       "...                                                 ...                ...   \n",
       "1028                   Berlin: bis 1990 nur Berlin-West                NaN   \n",
       "1029                                Neue Länder ab 1991                NaN   \n",
       "1030                                                NaN                NaN   \n",
       "1031  Ab 2011: Ergebnisse auf Grundlage des Zensus 2...                NaN   \n",
       "1032  © Statistisches Bundesamt (Destatis), 2021 | S...                NaN   \n",
       "\n",
       "     Unnamed: 2 Unnamed: 3   Unnamed: 4 Unnamed: 5 Unnamed: 6 Unnamed: 7  \\\n",
       "0           NaN        NaN          NaN        NaN        NaN        NaN   \n",
       "1           NaN        NaN          NaN        NaN        NaN        NaN   \n",
       "2           NaN        NaN          NaN        NaN        NaN        NaN   \n",
       "3        Bayern     Berlin  Brandenburg     Bremen    Hamburg     Hessen   \n",
       "4           NaN        NaN          NaN        NaN        NaN        NaN   \n",
       "...         ...        ...          ...        ...        ...        ...   \n",
       "1028        NaN        NaN          NaN        NaN        NaN        NaN   \n",
       "1029        NaN        NaN          NaN        NaN        NaN        NaN   \n",
       "1030        NaN        NaN          NaN        NaN        NaN        NaN   \n",
       "1031        NaN        NaN          NaN        NaN        NaN        NaN   \n",
       "1032        NaN        NaN          NaN        NaN        NaN        NaN   \n",
       "\n",
       "                  Unnamed: 8     Unnamed: 9          Unnamed: 10  \\\n",
       "0                        NaN            NaN                  NaN   \n",
       "1                        NaN            NaN                  NaN   \n",
       "2                        NaN            NaN                  NaN   \n",
       "3     Mecklenburg-Vorpommern  Niedersachsen  Nordrhein-Westfalen   \n",
       "4                        NaN            NaN                  NaN   \n",
       "...                      ...            ...                  ...   \n",
       "1028                     NaN            NaN                  NaN   \n",
       "1029                     NaN            NaN                  NaN   \n",
       "1030                     NaN            NaN                  NaN   \n",
       "1031                     NaN            NaN                  NaN   \n",
       "1032                     NaN            NaN                  NaN   \n",
       "\n",
       "          Unnamed: 11 Unnamed: 12 Unnamed: 13     Unnamed: 14  \\\n",
       "0                 NaN         NaN         NaN             NaN   \n",
       "1                 NaN         NaN         NaN             NaN   \n",
       "2                 NaN         NaN         NaN             NaN   \n",
       "3     Rheinland-Pfalz    Saarland     Sachsen  Sachsen-Anhalt   \n",
       "4                 NaN         NaN         NaN             NaN   \n",
       "...               ...         ...         ...             ...   \n",
       "1028              NaN         NaN         NaN             NaN   \n",
       "1029              NaN         NaN         NaN             NaN   \n",
       "1030              NaN         NaN         NaN             NaN   \n",
       "1031              NaN         NaN         NaN             NaN   \n",
       "1032              NaN         NaN         NaN             NaN   \n",
       "\n",
       "             Unnamed: 15 Unnamed: 16  \\\n",
       "0                    NaN         NaN   \n",
       "1                    NaN         NaN   \n",
       "2                    NaN         NaN   \n",
       "3     Schleswig-Holstein   Thüringen   \n",
       "4                    NaN         NaN   \n",
       "...                  ...         ...   \n",
       "1028                 NaN         NaN   \n",
       "1029                 NaN         NaN   \n",
       "1030                 NaN         NaN   \n",
       "1031                 NaN         NaN   \n",
       "1032                 NaN         NaN   \n",
       "\n",
       "                                            Unnamed: 17  \n",
       "0     https://www-genesis.destatis.de/genesis/online...  \n",
       "1                                   Tabelle: 12411-0012  \n",
       "2                                                   NaN  \n",
       "3                                             Insgesamt  \n",
       "4                                                   NaN  \n",
       "...                                                 ...  \n",
       "1028                                                  0  \n",
       "1029                                                  0  \n",
       "1030                                                NaN  \n",
       "1031                                                NaN  \n",
       "1032                                                NaN  \n",
       "\n",
       "[1033 rows x 18 columns]>"
      ]
     },
     "execution_count": 9,
     "metadata": {},
     "output_type": "execute_result"
    }
   ],
   "source": [
    "data.items"
   ]
  },
  {
   "cell_type": "code",
   "execution_count": null,
   "id": "df5cc692",
   "metadata": {},
   "outputs": [],
   "source": []
  },
  {
   "cell_type": "code",
   "execution_count": null,
   "id": "9d3b4b11",
   "metadata": {},
   "outputs": [],
   "source": []
  },
  {
   "cell_type": "code",
   "execution_count": 1,
   "id": "41622867",
   "metadata": {},
   "outputs": [],
   "source": [
    "import pandas as pd\n"
   ]
  },
  {
   "cell_type": "code",
   "execution_count": null,
   "id": "66059b29",
   "metadata": {},
   "outputs": [],
   "source": [
    "\n",
    "excel_file = pd.ExcelFile(r\"C:\\Users\\user\\Desktop\\A_AI_DDSP\\Dataset\\raw\\Krankenha╠êuser in Deutschland (Krankenhausverzeichnis)\\Krankenhausverzeichnis_2023.xlsx\")\n"
   ]
  },
  {
   "cell_type": "code",
   "execution_count": null,
   "id": "96179cce",
   "metadata": {},
   "outputs": [
    {
     "name": "stdout",
     "output_type": "stream",
     "text": [
      "['Titelblatt', 'Impressum', 'Inhalt', 'Vorbemerkungen', ' KHV_2023', 'RHV_2023', 'DSB_KHV_2023', 'DSB_RHV_2023', 'Land', 'Kreis', 'Statistische Ämter']\n"
     ]
    }
   ],
   "source": [
    "\n",
    "print(excel_file.sheet_names)\n",
    "\n",
    "dfs = {sheet: excel_file.parse(sheet) for sheet in excel_file.sheet_names}\n",
    "\n",
    "df_sheet1 = [' KHV_2023', 'RHV_2023', 'DSB_KHV_2023', 'DSB_RHV_2023', 'Land', 'Kreis', 'Statistische Ämter']"
   ]
  },
  {
   "cell_type": "code",
   "execution_count": 13,
   "id": "872dc224",
   "metadata": {},
   "outputs": [],
   "source": [
    "for i in df_sheet1:\n",
    "    data = dfs[i]\n",
    "    data.to_csv(\"C:\\\\Users\\\\user\\\\Desktop\\\\A_AI_DDSP\\\\Dataset\\\\SEP_xls\\\\2023\\\\{}.csv\".format(i),index=False)\n"
   ]
  },
  {
   "cell_type": "code",
   "execution_count": null,
   "id": "1cd3a04e",
   "metadata": {},
   "outputs": [],
   "source": []
  }
 ],
 "metadata": {
  "kernelspec": {
   "display_name": "base",
   "language": "python",
   "name": "python3"
  },
  "language_info": {
   "codemirror_mode": {
    "name": "ipython",
    "version": 3
   },
   "file_extension": ".py",
   "mimetype": "text/x-python",
   "name": "python",
   "nbconvert_exporter": "python",
   "pygments_lexer": "ipython3",
   "version": "3.9.13"
  }
 },
 "nbformat": 4,
 "nbformat_minor": 5
}
