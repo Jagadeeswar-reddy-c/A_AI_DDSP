{
 "cells": [
  {
   "cell_type": "code",
   "execution_count": 4,
   "id": "77e778c7",
   "metadata": {},
   "outputs": [],
   "source": [
    "import pypyodbc\n",
    "import csv\n",
    "\n",
    "# MS ACCESS DB CONNECTION\n",
    "pypyodbc.lowercase = False\n",
    "conn = pypyodbc.connect(\n",
    "    r\"Driver={Microsoft Access Driver (*.mdb, *.accdb)};\" +\n",
    "    r\"Dbq=C:\\Users\\mmlam\\Desktop\\M.Sc_LST\\SoSe_2025\\DS\\Data\\Topic_3\\versand_19_DRG_PatKreis_2022.accdb;\")\n",
    "\n",
    "# OPEN CURSOR AND EXECUTE SQL\n",
    "cur = conn.cursor()\n",
    "cur.execute(\"SELECT pat_ags5, drg, typ_alter, patient FROM Versand_19_DRG_PatKreis_2022;\");\n",
    "\n",
    "# OPEN CSV AND ITERATE THROUGH RESULTS\n",
    "with open('Output.csv', 'w', newline='') as f:\n",
    "    writer = csv.writer(f)    \n",
    "    for row in cur.fetchall() :\n",
    "        writer.writerow(row)\n",
    "\n",
    "cur.close()\n",
    "conn.close()"
   ]
  }
 ],
 "metadata": {
  "kernelspec": {
   "display_name": "comp_ling",
   "language": "python",
   "name": "python3"
  },
  "language_info": {
   "codemirror_mode": {
    "name": "ipython",
    "version": 3
   },
   "file_extension": ".py",
   "mimetype": "text/x-python",
   "name": "python",
   "nbconvert_exporter": "python",
   "pygments_lexer": "ipython3",
   "version": "3.8.0"
  }
 },
 "nbformat": 4,
 "nbformat_minor": 5
}
