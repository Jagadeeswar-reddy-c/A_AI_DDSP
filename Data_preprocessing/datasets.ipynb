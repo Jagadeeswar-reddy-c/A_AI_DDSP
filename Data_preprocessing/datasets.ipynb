{
 "cells": [
  {
   "cell_type": "code",
   "execution_count": 1,
   "id": "41622867",
   "metadata": {},
   "outputs": [],
   "source": [
    "import pandas as pd\n",
    "import os\n",
    "\n"
   ]
  },
  {
   "cell_type": "code",
   "execution_count": 4,
   "id": "1cd3a04e",
   "metadata": {},
   "outputs": [
    {
     "name": "stdout",
     "output_type": "stream",
     "text": [
      "c:\\Users\\user\\Desktop\\A_AI_DDSP\\Data_preprocessing\\..\\data\\processed\\Bevo╠êlkerungsdaten (Destatis)\\Bevölkerung historics_per BL.csv\n",
      "Saved Bevölkerung historics_per BL to c:\\Users\\user\\Desktop\\A_AI_DDSP\\Data_preprocessing\\..\\data\\processed\\Bevo╠êlkerungsdaten (Destatis)\\Bevölkerung historics_per BL.csv\n",
      "c:\\Users\\user\\Desktop\\A_AI_DDSP\\Data_preprocessing\\..\\data\\processed\\Bevo╠êlkerungsdaten (Destatis)\\Bevölkerung forecasts_VAR 02.csv\n",
      "Saved Bevölkerung forecasts_VAR 02 to c:\\Users\\user\\Desktop\\A_AI_DDSP\\Data_preprocessing\\..\\data\\processed\\Bevo╠êlkerungsdaten (Destatis)\\Bevölkerung forecasts_VAR 02.csv\n",
      "c:\\Users\\user\\Desktop\\A_AI_DDSP\\Data_preprocessing\\..\\data\\processed\\Bevo╠êlkerungsdaten (Destatis)\\Raw Data.csv\n",
      "Saved Raw Data to c:\\Users\\user\\Desktop\\A_AI_DDSP\\Data_preprocessing\\..\\data\\processed\\Bevo╠êlkerungsdaten (Destatis)\\Raw Data.csv\n",
      "c:\\Users\\user\\Desktop\\A_AI_DDSP\\Data_preprocessing\\..\\data\\processed\\Bevo╠êlkerungsdaten (Destatis)\\Bevölkerung forecasts_ALL VAR.csv\n",
      "Saved Bevölkerung forecasts_ALL VAR to c:\\Users\\user\\Desktop\\A_AI_DDSP\\Data_preprocessing\\..\\data\\processed\\Bevo╠êlkerungsdaten (Destatis)\\Bevölkerung forecasts_ALL VAR.csv\n",
      "c:\\Users\\user\\Desktop\\A_AI_DDSP\\Data_preprocessing\\..\\data\\processed\\DRG Fachabteilungcluster\\Sheet1.csv\n",
      "Saved Sheet1 to c:\\Users\\user\\Desktop\\A_AI_DDSP\\Data_preprocessing\\..\\data\\processed\\DRG Fachabteilungcluster\\Sheet1.csv\n",
      "Saved DSB_drg 2021 to c:\\Users\\user\\Desktop\\A_AI_DDSP\\Data_preprocessing\\..\\data\\processed\\DRG-Statistik (Patientenvolumen)\\DSB_drg 2021.csv\n",
      "Saved SA 40 2021 to c:\\Users\\user\\Desktop\\A_AI_DDSP\\Data_preprocessing\\..\\data\\processed\\DRG-Statistik (Patientenvolumen)\\SA 40 2021.csv\n",
      "Saved hd3 kreis SHHE 0106 to c:\\Users\\user\\Desktop\\A_AI_DDSP\\Data_preprocessing\\..\\data\\processed\\DRG-Statistik (Patientenvolumen)\\hd3 kreis SHHE 0106.csv\n",
      "Saved hd3 kreis RPBW 0708 to c:\\Users\\user\\Desktop\\A_AI_DDSP\\Data_preprocessing\\..\\data\\processed\\DRG-Statistik (Patientenvolumen)\\hd3 kreis RPBW 0708.csv\n",
      "Saved hd3 kreis BYBE 0911 to c:\\Users\\user\\Desktop\\A_AI_DDSP\\Data_preprocessing\\..\\data\\processed\\DRG-Statistik (Patientenvolumen)\\hd3 kreis BYBE 0911.csv\n",
      "Saved hd3 kreis BBTH 1216 to c:\\Users\\user\\Desktop\\A_AI_DDSP\\Data_preprocessing\\..\\data\\processed\\DRG-Statistik (Patientenvolumen)\\hd3 kreis BBTH 1216.csv\n",
      "Saved hd3 aus_unbek to c:\\Users\\user\\Desktop\\A_AI_DDSP\\Data_preprocessing\\..\\data\\processed\\DRG-Statistik (Patientenvolumen)\\hd3 aus_unbek.csv\n",
      "Saved DSB_drg 2022 to c:\\Users\\user\\Desktop\\A_AI_DDSP\\Data_preprocessing\\..\\data\\processed\\DRG-Statistik (Patientenvolumen)\\DSB_drg 2022.csv\n",
      "Saved SA 40 2022 to c:\\Users\\user\\Desktop\\A_AI_DDSP\\Data_preprocessing\\..\\data\\processed\\DRG-Statistik (Patientenvolumen)\\SA 40 2022.csv\n",
      "Saved DSB_drg 2023 to c:\\Users\\user\\Desktop\\A_AI_DDSP\\Data_preprocessing\\..\\data\\processed\\DRG-Statistik (Patientenvolumen)\\DSB_drg 2023.csv\n",
      "Saved SA 40 2023 to c:\\Users\\user\\Desktop\\A_AI_DDSP\\Data_preprocessing\\..\\data\\processed\\DRG-Statistik (Patientenvolumen)\\SA 40 2023.csv\n"
     ]
    },
    {
     "name": "stderr",
     "output_type": "stream",
     "text": [
      "c:\\Users\\user\\anaconda3\\lib\\site-packages\\openpyxl\\worksheet\\_read_only.py:79: UserWarning: Data Validation extension is not supported and will be removed\n",
      "  for idx, row in parser.parse():\n"
     ]
    },
    {
     "name": "stdout",
     "output_type": "stream",
     "text": [
      "c:\\Users\\user\\Desktop\\A_AI_DDSP\\Data_preprocessing\\..\\data\\processed\\Krankenha╠êuser in Deutschland (Krankenhausverzeichnis)\\Titelblatt.csv\n",
      "Saved Titelblatt to c:\\Users\\user\\Desktop\\A_AI_DDSP\\Data_preprocessing\\..\\data\\processed\\Krankenha╠êuser in Deutschland (Krankenhausverzeichnis)\\Titelblatt.csv\n",
      "c:\\Users\\user\\Desktop\\A_AI_DDSP\\Data_preprocessing\\..\\data\\processed\\Krankenha╠êuser in Deutschland (Krankenhausverzeichnis)\\Impressum.csv\n",
      "Saved Impressum to c:\\Users\\user\\Desktop\\A_AI_DDSP\\Data_preprocessing\\..\\data\\processed\\Krankenha╠êuser in Deutschland (Krankenhausverzeichnis)\\Impressum.csv\n",
      "c:\\Users\\user\\Desktop\\A_AI_DDSP\\Data_preprocessing\\..\\data\\processed\\Krankenha╠êuser in Deutschland (Krankenhausverzeichnis)\\Inhalt.csv\n",
      "Saved Inhalt to c:\\Users\\user\\Desktop\\A_AI_DDSP\\Data_preprocessing\\..\\data\\processed\\Krankenha╠êuser in Deutschland (Krankenhausverzeichnis)\\Inhalt.csv\n",
      "c:\\Users\\user\\Desktop\\A_AI_DDSP\\Data_preprocessing\\..\\data\\processed\\Krankenha╠êuser in Deutschland (Krankenhausverzeichnis)\\Vorbemerkungen.csv\n",
      "Saved Vorbemerkungen to c:\\Users\\user\\Desktop\\A_AI_DDSP\\Data_preprocessing\\..\\data\\processed\\Krankenha╠êuser in Deutschland (Krankenhausverzeichnis)\\Vorbemerkungen.csv\n",
      "c:\\Users\\user\\Desktop\\A_AI_DDSP\\Data_preprocessing\\..\\data\\processed\\Krankenha╠êuser in Deutschland (Krankenhausverzeichnis)\\KHV_2021.csv\n",
      "Saved KHV_2021 to c:\\Users\\user\\Desktop\\A_AI_DDSP\\Data_preprocessing\\..\\data\\processed\\Krankenha╠êuser in Deutschland (Krankenhausverzeichnis)\\KHV_2021.csv\n",
      "c:\\Users\\user\\Desktop\\A_AI_DDSP\\Data_preprocessing\\..\\data\\processed\\Krankenha╠êuser in Deutschland (Krankenhausverzeichnis)\\RHV_2021.csv\n",
      "Saved RHV_2021 to c:\\Users\\user\\Desktop\\A_AI_DDSP\\Data_preprocessing\\..\\data\\processed\\Krankenha╠êuser in Deutschland (Krankenhausverzeichnis)\\RHV_2021.csv\n",
      "c:\\Users\\user\\Desktop\\A_AI_DDSP\\Data_preprocessing\\..\\data\\processed\\Krankenha╠êuser in Deutschland (Krankenhausverzeichnis)\\DSB_KHV_2021.csv\n",
      "Saved DSB_KHV_2021 to c:\\Users\\user\\Desktop\\A_AI_DDSP\\Data_preprocessing\\..\\data\\processed\\Krankenha╠êuser in Deutschland (Krankenhausverzeichnis)\\DSB_KHV_2021.csv\n",
      "c:\\Users\\user\\Desktop\\A_AI_DDSP\\Data_preprocessing\\..\\data\\processed\\Krankenha╠êuser in Deutschland (Krankenhausverzeichnis)\\DSB_RHV_2021.csv\n",
      "Saved DSB_RHV_2021 to c:\\Users\\user\\Desktop\\A_AI_DDSP\\Data_preprocessing\\..\\data\\processed\\Krankenha╠êuser in Deutschland (Krankenhausverzeichnis)\\DSB_RHV_2021.csv\n",
      "c:\\Users\\user\\Desktop\\A_AI_DDSP\\Data_preprocessing\\..\\data\\processed\\Krankenha╠êuser in Deutschland (Krankenhausverzeichnis)\\Land.csv\n",
      "Saved Land to c:\\Users\\user\\Desktop\\A_AI_DDSP\\Data_preprocessing\\..\\data\\processed\\Krankenha╠êuser in Deutschland (Krankenhausverzeichnis)\\Land.csv\n",
      "c:\\Users\\user\\Desktop\\A_AI_DDSP\\Data_preprocessing\\..\\data\\processed\\Krankenha╠êuser in Deutschland (Krankenhausverzeichnis)\\Kreis.csv\n",
      "Saved Kreis to c:\\Users\\user\\Desktop\\A_AI_DDSP\\Data_preprocessing\\..\\data\\processed\\Krankenha╠êuser in Deutschland (Krankenhausverzeichnis)\\Kreis.csv\n",
      "c:\\Users\\user\\Desktop\\A_AI_DDSP\\Data_preprocessing\\..\\data\\processed\\Krankenha╠êuser in Deutschland (Krankenhausverzeichnis)\\Statistische Ämter.csv\n",
      "Saved Statistische Ämter to c:\\Users\\user\\Desktop\\A_AI_DDSP\\Data_preprocessing\\..\\data\\processed\\Krankenha╠êuser in Deutschland (Krankenhausverzeichnis)\\Statistische Ämter.csv\n"
     ]
    },
    {
     "name": "stderr",
     "output_type": "stream",
     "text": [
      "c:\\Users\\user\\anaconda3\\lib\\site-packages\\openpyxl\\worksheet\\_read_only.py:79: UserWarning: Conditional Formatting extension is not supported and will be removed\n",
      "  for idx, row in parser.parse():\n",
      "c:\\Users\\user\\anaconda3\\lib\\site-packages\\openpyxl\\worksheet\\_read_only.py:79: UserWarning: Data Validation extension is not supported and will be removed\n",
      "  for idx, row in parser.parse():\n"
     ]
    },
    {
     "name": "stdout",
     "output_type": "stream",
     "text": [
      "c:\\Users\\user\\Desktop\\A_AI_DDSP\\Data_preprocessing\\..\\data\\processed\\Krankenha╠êuser in Deutschland (Krankenhausverzeichnis)\\Titelblatt.csv\n",
      "Saved Titelblatt to c:\\Users\\user\\Desktop\\A_AI_DDSP\\Data_preprocessing\\..\\data\\processed\\Krankenha╠êuser in Deutschland (Krankenhausverzeichnis)\\Titelblatt.csv\n",
      "c:\\Users\\user\\Desktop\\A_AI_DDSP\\Data_preprocessing\\..\\data\\processed\\Krankenha╠êuser in Deutschland (Krankenhausverzeichnis)\\Impressum.csv\n",
      "Saved Impressum to c:\\Users\\user\\Desktop\\A_AI_DDSP\\Data_preprocessing\\..\\data\\processed\\Krankenha╠êuser in Deutschland (Krankenhausverzeichnis)\\Impressum.csv\n",
      "c:\\Users\\user\\Desktop\\A_AI_DDSP\\Data_preprocessing\\..\\data\\processed\\Krankenha╠êuser in Deutschland (Krankenhausverzeichnis)\\Inhalt.csv\n",
      "Saved Inhalt to c:\\Users\\user\\Desktop\\A_AI_DDSP\\Data_preprocessing\\..\\data\\processed\\Krankenha╠êuser in Deutschland (Krankenhausverzeichnis)\\Inhalt.csv\n",
      "c:\\Users\\user\\Desktop\\A_AI_DDSP\\Data_preprocessing\\..\\data\\processed\\Krankenha╠êuser in Deutschland (Krankenhausverzeichnis)\\Vorbemerkungen.csv\n",
      "Saved Vorbemerkungen to c:\\Users\\user\\Desktop\\A_AI_DDSP\\Data_preprocessing\\..\\data\\processed\\Krankenha╠êuser in Deutschland (Krankenhausverzeichnis)\\Vorbemerkungen.csv\n",
      "c:\\Users\\user\\Desktop\\A_AI_DDSP\\Data_preprocessing\\..\\data\\processed\\Krankenha╠êuser in Deutschland (Krankenhausverzeichnis)\\KHV_2022.csv\n",
      "Saved KHV_2022 to c:\\Users\\user\\Desktop\\A_AI_DDSP\\Data_preprocessing\\..\\data\\processed\\Krankenha╠êuser in Deutschland (Krankenhausverzeichnis)\\KHV_2022.csv\n",
      "c:\\Users\\user\\Desktop\\A_AI_DDSP\\Data_preprocessing\\..\\data\\processed\\Krankenha╠êuser in Deutschland (Krankenhausverzeichnis)\\RHV_2022.csv\n",
      "Saved RHV_2022 to c:\\Users\\user\\Desktop\\A_AI_DDSP\\Data_preprocessing\\..\\data\\processed\\Krankenha╠êuser in Deutschland (Krankenhausverzeichnis)\\RHV_2022.csv\n",
      "c:\\Users\\user\\Desktop\\A_AI_DDSP\\Data_preprocessing\\..\\data\\processed\\Krankenha╠êuser in Deutschland (Krankenhausverzeichnis)\\DSB_KHV_2022.csv\n",
      "Saved DSB_KHV_2022 to c:\\Users\\user\\Desktop\\A_AI_DDSP\\Data_preprocessing\\..\\data\\processed\\Krankenha╠êuser in Deutschland (Krankenhausverzeichnis)\\DSB_KHV_2022.csv\n",
      "c:\\Users\\user\\Desktop\\A_AI_DDSP\\Data_preprocessing\\..\\data\\processed\\Krankenha╠êuser in Deutschland (Krankenhausverzeichnis)\\DSB_RHV_2022.csv\n",
      "Saved DSB_RHV_2022 to c:\\Users\\user\\Desktop\\A_AI_DDSP\\Data_preprocessing\\..\\data\\processed\\Krankenha╠êuser in Deutschland (Krankenhausverzeichnis)\\DSB_RHV_2022.csv\n",
      "c:\\Users\\user\\Desktop\\A_AI_DDSP\\Data_preprocessing\\..\\data\\processed\\Krankenha╠êuser in Deutschland (Krankenhausverzeichnis)\\Land.csv\n",
      "Saved Land to c:\\Users\\user\\Desktop\\A_AI_DDSP\\Data_preprocessing\\..\\data\\processed\\Krankenha╠êuser in Deutschland (Krankenhausverzeichnis)\\Land.csv\n",
      "c:\\Users\\user\\Desktop\\A_AI_DDSP\\Data_preprocessing\\..\\data\\processed\\Krankenha╠êuser in Deutschland (Krankenhausverzeichnis)\\Kreis.csv\n",
      "Saved Kreis to c:\\Users\\user\\Desktop\\A_AI_DDSP\\Data_preprocessing\\..\\data\\processed\\Krankenha╠êuser in Deutschland (Krankenhausverzeichnis)\\Kreis.csv\n",
      "c:\\Users\\user\\Desktop\\A_AI_DDSP\\Data_preprocessing\\..\\data\\processed\\Krankenha╠êuser in Deutschland (Krankenhausverzeichnis)\\Statistische Ämter.csv\n",
      "Saved Statistische Ämter to c:\\Users\\user\\Desktop\\A_AI_DDSP\\Data_preprocessing\\..\\data\\processed\\Krankenha╠êuser in Deutschland (Krankenhausverzeichnis)\\Statistische Ämter.csv\n",
      "c:\\Users\\user\\Desktop\\A_AI_DDSP\\Data_preprocessing\\..\\data\\processed\\Krankenha╠êuser in Deutschland (Krankenhausverzeichnis)\\Titelblatt.csv\n",
      "Saved Titelblatt to c:\\Users\\user\\Desktop\\A_AI_DDSP\\Data_preprocessing\\..\\data\\processed\\Krankenha╠êuser in Deutschland (Krankenhausverzeichnis)\\Titelblatt.csv\n",
      "c:\\Users\\user\\Desktop\\A_AI_DDSP\\Data_preprocessing\\..\\data\\processed\\Krankenha╠êuser in Deutschland (Krankenhausverzeichnis)\\Impressum.csv\n",
      "Saved Impressum to c:\\Users\\user\\Desktop\\A_AI_DDSP\\Data_preprocessing\\..\\data\\processed\\Krankenha╠êuser in Deutschland (Krankenhausverzeichnis)\\Impressum.csv\n",
      "c:\\Users\\user\\Desktop\\A_AI_DDSP\\Data_preprocessing\\..\\data\\processed\\Krankenha╠êuser in Deutschland (Krankenhausverzeichnis)\\Inhalt.csv\n",
      "Saved Inhalt to c:\\Users\\user\\Desktop\\A_AI_DDSP\\Data_preprocessing\\..\\data\\processed\\Krankenha╠êuser in Deutschland (Krankenhausverzeichnis)\\Inhalt.csv\n",
      "c:\\Users\\user\\Desktop\\A_AI_DDSP\\Data_preprocessing\\..\\data\\processed\\Krankenha╠êuser in Deutschland (Krankenhausverzeichnis)\\Vorbemerkungen.csv\n",
      "Saved Vorbemerkungen to c:\\Users\\user\\Desktop\\A_AI_DDSP\\Data_preprocessing\\..\\data\\processed\\Krankenha╠êuser in Deutschland (Krankenhausverzeichnis)\\Vorbemerkungen.csv\n",
      "c:\\Users\\user\\Desktop\\A_AI_DDSP\\Data_preprocessing\\..\\data\\processed\\Krankenha╠êuser in Deutschland (Krankenhausverzeichnis)\\KHV_2023.csv\n",
      "Saved KHV_2023 to c:\\Users\\user\\Desktop\\A_AI_DDSP\\Data_preprocessing\\..\\data\\processed\\Krankenha╠êuser in Deutschland (Krankenhausverzeichnis)\\KHV_2023.csv\n",
      "c:\\Users\\user\\Desktop\\A_AI_DDSP\\Data_preprocessing\\..\\data\\processed\\Krankenha╠êuser in Deutschland (Krankenhausverzeichnis)\\RHV_2023.csv\n",
      "Saved RHV_2023 to c:\\Users\\user\\Desktop\\A_AI_DDSP\\Data_preprocessing\\..\\data\\processed\\Krankenha╠êuser in Deutschland (Krankenhausverzeichnis)\\RHV_2023.csv\n",
      "c:\\Users\\user\\Desktop\\A_AI_DDSP\\Data_preprocessing\\..\\data\\processed\\Krankenha╠êuser in Deutschland (Krankenhausverzeichnis)\\DSB_KHV_2023.csv\n",
      "Saved DSB_KHV_2023 to c:\\Users\\user\\Desktop\\A_AI_DDSP\\Data_preprocessing\\..\\data\\processed\\Krankenha╠êuser in Deutschland (Krankenhausverzeichnis)\\DSB_KHV_2023.csv\n",
      "c:\\Users\\user\\Desktop\\A_AI_DDSP\\Data_preprocessing\\..\\data\\processed\\Krankenha╠êuser in Deutschland (Krankenhausverzeichnis)\\DSB_RHV_2023.csv\n",
      "Saved DSB_RHV_2023 to c:\\Users\\user\\Desktop\\A_AI_DDSP\\Data_preprocessing\\..\\data\\processed\\Krankenha╠êuser in Deutschland (Krankenhausverzeichnis)\\DSB_RHV_2023.csv\n",
      "c:\\Users\\user\\Desktop\\A_AI_DDSP\\Data_preprocessing\\..\\data\\processed\\Krankenha╠êuser in Deutschland (Krankenhausverzeichnis)\\Land.csv\n",
      "Saved Land to c:\\Users\\user\\Desktop\\A_AI_DDSP\\Data_preprocessing\\..\\data\\processed\\Krankenha╠êuser in Deutschland (Krankenhausverzeichnis)\\Land.csv\n",
      "c:\\Users\\user\\Desktop\\A_AI_DDSP\\Data_preprocessing\\..\\data\\processed\\Krankenha╠êuser in Deutschland (Krankenhausverzeichnis)\\Kreis.csv\n",
      "Saved Kreis to c:\\Users\\user\\Desktop\\A_AI_DDSP\\Data_preprocessing\\..\\data\\processed\\Krankenha╠êuser in Deutschland (Krankenhausverzeichnis)\\Kreis.csv\n",
      "c:\\Users\\user\\Desktop\\A_AI_DDSP\\Data_preprocessing\\..\\data\\processed\\Krankenha╠êuser in Deutschland (Krankenhausverzeichnis)\\Statistische Ämter.csv\n",
      "Saved Statistische Ämter to c:\\Users\\user\\Desktop\\A_AI_DDSP\\Data_preprocessing\\..\\data\\processed\\Krankenha╠êuser in Deutschland (Krankenhausverzeichnis)\\Statistische Ämter.csv\n"
     ]
    }
   ],
   "source": [
    "datasetpath = \"Dataset\"\n",
    "folderpath = os.listdir(os.path.join(os.getcwd(), os.pardir, datasetpath))\n",
    "\n",
    "# Filter directories\n",
    "folderpath = [i for i in folderpath if os.path.isdir(os.path.join(os.getcwd(), os.pardir, datasetpath, i))]\n",
    "\n",
    "outputpath = os.path.join(os.getcwd(), os.pardir, \"data\", \"processed\")\n",
    "\n",
    "if not os.path.exists(outputpath):\n",
    "    os.makedirs(outputpath)\n",
    "\n",
    "for i in folderpath:\n",
    "    output_path = os.path.join(os.getcwd(), os.pardir, outputpath, i)\n",
    "    if not os.path.exists(output_path):\n",
    "        os.makedirs(output_path)\n",
    "\n",
    "    for j in os.listdir(os.path.join(os.getcwd(), os.pardir, datasetpath, i)):\n",
    "        j_path = os.path.join(os.getcwd(), os.pardir, datasetpath, i, j)\n",
    "\n",
    "        if os.path.isdir(j_path):\n",
    "            for k in os.listdir(j_path):\n",
    "                if k.endswith(\".xlsx\"):\n",
    "                    file_path = os.path.join(j_path, k)\n",
    "                    \n",
    "                    # Process Excel file\n",
    "                    data = pd.ExcelFile(file_path)\n",
    "                    dfs = {sheet: data.parse(sheet) for sheet in data.sheet_names}\n",
    "\n",
    "                    for sheet_name, df in dfs.items():\n",
    "                        # Clean only if special characters exist\n",
    "                        clean_sheet_name = \"\".join(c if c.isalnum() or c in (\" \", \"_\") else \"\" for c in sheet_name).strip()\n",
    "                        output_file = os.path.join(outputpath, i, f\"{clean_sheet_name}.csv\")\n",
    "                        df.to_csv(output_file, index=False, header=False)\n",
    "                        print(f\"Saved {clean_sheet_name} to {output_file}\")\n",
    "\n",
    "        elif j.endswith(\".xlsx\"):\n",
    "            file_path = j_path\n",
    "            data = pd.ExcelFile(file_path)\n",
    "            dfs = {sheet: data.parse(sheet) for sheet in data.sheet_names}\n",
    "\n",
    "            for sheet_name, df in dfs.items():\n",
    "                # Clean only if necessary\n",
    "                clean_sheet_name = \"\".join(c if c.isalnum() or c in (\" \", \"_\") else \"\" for c in sheet_name).strip()\n",
    "                output_file = os.path.join(outputpath, i, f\"{clean_sheet_name}.csv\")\n",
    "                print(output_file)\n",
    "                df.to_csv(output_file, index=False, header=False)\n",
    "                print(f\"Saved {clean_sheet_name} to {output_file}\")"
   ]
  },
  {
   "cell_type": "code",
   "execution_count": null,
   "id": "c44fb387",
   "metadata": {},
   "outputs": [],
   "source": []
  }
 ],
 "metadata": {
  "kernelspec": {
   "display_name": "base",
   "language": "python",
   "name": "python3"
  },
  "language_info": {
   "codemirror_mode": {
    "name": "ipython",
    "version": 3
   },
   "file_extension": ".py",
   "mimetype": "text/x-python",
   "name": "python",
   "nbconvert_exporter": "python",
   "pygments_lexer": "ipython3",
   "version": "3.9.13"
  }
 },
 "nbformat": 4,
 "nbformat_minor": 5
}
