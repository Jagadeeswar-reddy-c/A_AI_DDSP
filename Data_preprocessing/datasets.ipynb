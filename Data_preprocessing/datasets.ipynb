{
 "cells": [
  {
   "cell_type": "code",
   "execution_count": 50,
   "id": "41622867",
   "metadata": {},
   "outputs": [],
   "source": [
    "import pandas as pd\n",
    "import os\n",
    "\n"
   ]
  },
  {
   "cell_type": "code",
   "execution_count": null,
   "id": "13a1a6b9",
   "metadata": {},
   "outputs": [
    {
     "name": "stdout",
     "output_type": "stream",
     "text": [
      "Saved Sheet1 to /Users/jagadeeswarreddychennuru/Downloads/A_AI_DDSP/Data_preprocessing/../data/processed/DRG Fachabteilungcluster/Sheet1.csv\n",
      "Saved Bevölkerung historics_per BL to /Users/jagadeeswarreddychennuru/Downloads/A_AI_DDSP/Data_preprocessing/../data/processed/Bevölkerungsdaten (Destatis)/Bevölkerung historics_per BL.csv\n",
      "Saved Bevölkerung forecasts_VAR 02 to /Users/jagadeeswarreddychennuru/Downloads/A_AI_DDSP/Data_preprocessing/../data/processed/Bevölkerungsdaten (Destatis)/Bevölkerung forecasts_VAR 02.csv\n",
      "Saved Raw Data >>> to /Users/jagadeeswarreddychennuru/Downloads/A_AI_DDSP/Data_preprocessing/../data/processed/Bevölkerungsdaten (Destatis)/Raw Data >>>.csv\n",
      "Saved Bevölkerung forecasts_ALL VAR to /Users/jagadeeswarreddychennuru/Downloads/A_AI_DDSP/Data_preprocessing/../data/processed/Bevölkerungsdaten (Destatis)/Bevölkerung forecasts_ALL VAR.csv\n",
      "Saved DSB_drg 2022 to /Users/jagadeeswarreddychennuru/Downloads/A_AI_DDSP/Data_preprocessing/../data/processed/DRG-Statistik (Patientenvolumen)/DSB_drg 2022.csv\n",
      "Saved SA 40 2022 to /Users/jagadeeswarreddychennuru/Downloads/A_AI_DDSP/Data_preprocessing/../data/processed/DRG-Statistik (Patientenvolumen)/SA 40 2022.csv\n",
      "Saved DSB_drg 2023 to /Users/jagadeeswarreddychennuru/Downloads/A_AI_DDSP/Data_preprocessing/../data/processed/DRG-Statistik (Patientenvolumen)/DSB_drg 2023.csv\n",
      "Saved SA 40 2023 to /Users/jagadeeswarreddychennuru/Downloads/A_AI_DDSP/Data_preprocessing/../data/processed/DRG-Statistik (Patientenvolumen)/SA 40 2023.csv\n",
      "Saved DSB_drg 2021 to /Users/jagadeeswarreddychennuru/Downloads/A_AI_DDSP/Data_preprocessing/../data/processed/DRG-Statistik (Patientenvolumen)/DSB_drg 2021.csv\n",
      "Saved SA 40 2021 to /Users/jagadeeswarreddychennuru/Downloads/A_AI_DDSP/Data_preprocessing/../data/processed/DRG-Statistik (Patientenvolumen)/SA 40 2021.csv\n",
      "Saved hd3 kreis SH-HE 01-06 to /Users/jagadeeswarreddychennuru/Downloads/A_AI_DDSP/Data_preprocessing/../data/processed/DRG-Statistik (Patientenvolumen)/hd3 kreis SH-HE 01-06.csv\n",
      "Saved hd3 kreis RP-BW 07-08 to /Users/jagadeeswarreddychennuru/Downloads/A_AI_DDSP/Data_preprocessing/../data/processed/DRG-Statistik (Patientenvolumen)/hd3 kreis RP-BW 07-08.csv\n",
      "Saved hd3 kreis BY-BE 09-11 to /Users/jagadeeswarreddychennuru/Downloads/A_AI_DDSP/Data_preprocessing/../data/processed/DRG-Statistik (Patientenvolumen)/hd3 kreis BY-BE 09-11.csv\n",
      "Saved hd3 kreis BB-TH 12-16 to /Users/jagadeeswarreddychennuru/Downloads/A_AI_DDSP/Data_preprocessing/../data/processed/DRG-Statistik (Patientenvolumen)/hd3 kreis BB-TH 12-16.csv\n",
      "Saved hd3 aus_unbek to /Users/jagadeeswarreddychennuru/Downloads/A_AI_DDSP/Data_preprocessing/../data/processed/DRG-Statistik (Patientenvolumen)/hd3 aus_unbek.csv\n",
      "Saved Titelblatt to /Users/jagadeeswarreddychennuru/Downloads/A_AI_DDSP/Data_preprocessing/../data/processed/Krankenhäuser in Deutschland (Krankenhausverzeichnis)/Titelblatt.csv\n",
      "Saved Impressum to /Users/jagadeeswarreddychennuru/Downloads/A_AI_DDSP/Data_preprocessing/../data/processed/Krankenhäuser in Deutschland (Krankenhausverzeichnis)/Impressum.csv\n",
      "Saved Inhalt to /Users/jagadeeswarreddychennuru/Downloads/A_AI_DDSP/Data_preprocessing/../data/processed/Krankenhäuser in Deutschland (Krankenhausverzeichnis)/Inhalt.csv\n",
      "Saved Vorbemerkungen to /Users/jagadeeswarreddychennuru/Downloads/A_AI_DDSP/Data_preprocessing/../data/processed/Krankenhäuser in Deutschland (Krankenhausverzeichnis)/Vorbemerkungen.csv\n",
      "Saved  KHV_2023 to /Users/jagadeeswarreddychennuru/Downloads/A_AI_DDSP/Data_preprocessing/../data/processed/Krankenhäuser in Deutschland (Krankenhausverzeichnis)/ KHV_2023.csv\n",
      "Saved RHV_2023 to /Users/jagadeeswarreddychennuru/Downloads/A_AI_DDSP/Data_preprocessing/../data/processed/Krankenhäuser in Deutschland (Krankenhausverzeichnis)/RHV_2023.csv\n",
      "Saved DSB_KHV_2023 to /Users/jagadeeswarreddychennuru/Downloads/A_AI_DDSP/Data_preprocessing/../data/processed/Krankenhäuser in Deutschland (Krankenhausverzeichnis)/DSB_KHV_2023.csv\n",
      "Saved DSB_RHV_2023 to /Users/jagadeeswarreddychennuru/Downloads/A_AI_DDSP/Data_preprocessing/../data/processed/Krankenhäuser in Deutschland (Krankenhausverzeichnis)/DSB_RHV_2023.csv\n",
      "Saved Land to /Users/jagadeeswarreddychennuru/Downloads/A_AI_DDSP/Data_preprocessing/../data/processed/Krankenhäuser in Deutschland (Krankenhausverzeichnis)/Land.csv\n",
      "Saved Kreis to /Users/jagadeeswarreddychennuru/Downloads/A_AI_DDSP/Data_preprocessing/../data/processed/Krankenhäuser in Deutschland (Krankenhausverzeichnis)/Kreis.csv\n",
      "Saved Statistische Ämter to /Users/jagadeeswarreddychennuru/Downloads/A_AI_DDSP/Data_preprocessing/../data/processed/Krankenhäuser in Deutschland (Krankenhausverzeichnis)/Statistische Ämter.csv\n"
     ]
    },
    {
     "name": "stderr",
     "output_type": "stream",
     "text": [
      "/opt/anaconda3/lib/python3.12/site-packages/openpyxl/worksheet/_read_only.py:85: UserWarning: Conditional Formatting extension is not supported and will be removed\n",
      "  for idx, row in parser.parse():\n",
      "/opt/anaconda3/lib/python3.12/site-packages/openpyxl/worksheet/_read_only.py:85: UserWarning: Data Validation extension is not supported and will be removed\n",
      "  for idx, row in parser.parse():\n"
     ]
    },
    {
     "name": "stdout",
     "output_type": "stream",
     "text": [
      "Saved Titelblatt to /Users/jagadeeswarreddychennuru/Downloads/A_AI_DDSP/Data_preprocessing/../data/processed/Krankenhäuser in Deutschland (Krankenhausverzeichnis)/Titelblatt.csv\n",
      "Saved Impressum to /Users/jagadeeswarreddychennuru/Downloads/A_AI_DDSP/Data_preprocessing/../data/processed/Krankenhäuser in Deutschland (Krankenhausverzeichnis)/Impressum.csv\n",
      "Saved Inhalt to /Users/jagadeeswarreddychennuru/Downloads/A_AI_DDSP/Data_preprocessing/../data/processed/Krankenhäuser in Deutschland (Krankenhausverzeichnis)/Inhalt.csv\n",
      "Saved Vorbemerkungen to /Users/jagadeeswarreddychennuru/Downloads/A_AI_DDSP/Data_preprocessing/../data/processed/Krankenhäuser in Deutschland (Krankenhausverzeichnis)/Vorbemerkungen.csv\n",
      "Saved  KHV_2022 to /Users/jagadeeswarreddychennuru/Downloads/A_AI_DDSP/Data_preprocessing/../data/processed/Krankenhäuser in Deutschland (Krankenhausverzeichnis)/ KHV_2022.csv\n",
      "Saved RHV_2022 to /Users/jagadeeswarreddychennuru/Downloads/A_AI_DDSP/Data_preprocessing/../data/processed/Krankenhäuser in Deutschland (Krankenhausverzeichnis)/RHV_2022.csv\n",
      "Saved DSB_KHV_2022 to /Users/jagadeeswarreddychennuru/Downloads/A_AI_DDSP/Data_preprocessing/../data/processed/Krankenhäuser in Deutschland (Krankenhausverzeichnis)/DSB_KHV_2022.csv\n",
      "Saved DSB_RHV_2022 to /Users/jagadeeswarreddychennuru/Downloads/A_AI_DDSP/Data_preprocessing/../data/processed/Krankenhäuser in Deutschland (Krankenhausverzeichnis)/DSB_RHV_2022.csv\n",
      "Saved Land to /Users/jagadeeswarreddychennuru/Downloads/A_AI_DDSP/Data_preprocessing/../data/processed/Krankenhäuser in Deutschland (Krankenhausverzeichnis)/Land.csv\n",
      "Saved Kreis to /Users/jagadeeswarreddychennuru/Downloads/A_AI_DDSP/Data_preprocessing/../data/processed/Krankenhäuser in Deutschland (Krankenhausverzeichnis)/Kreis.csv\n",
      "Saved Statistische Ämter to /Users/jagadeeswarreddychennuru/Downloads/A_AI_DDSP/Data_preprocessing/../data/processed/Krankenhäuser in Deutschland (Krankenhausverzeichnis)/Statistische Ämter.csv\n"
     ]
    },
    {
     "name": "stderr",
     "output_type": "stream",
     "text": [
      "/opt/anaconda3/lib/python3.12/site-packages/openpyxl/worksheet/_read_only.py:85: UserWarning: Data Validation extension is not supported and will be removed\n",
      "  for idx, row in parser.parse():\n"
     ]
    },
    {
     "name": "stdout",
     "output_type": "stream",
     "text": [
      "Saved Titelblatt to /Users/jagadeeswarreddychennuru/Downloads/A_AI_DDSP/Data_preprocessing/../data/processed/Krankenhäuser in Deutschland (Krankenhausverzeichnis)/Titelblatt.csv\n",
      "Saved Impressum to /Users/jagadeeswarreddychennuru/Downloads/A_AI_DDSP/Data_preprocessing/../data/processed/Krankenhäuser in Deutschland (Krankenhausverzeichnis)/Impressum.csv\n",
      "Saved Inhalt to /Users/jagadeeswarreddychennuru/Downloads/A_AI_DDSP/Data_preprocessing/../data/processed/Krankenhäuser in Deutschland (Krankenhausverzeichnis)/Inhalt.csv\n",
      "Saved Vorbemerkungen to /Users/jagadeeswarreddychennuru/Downloads/A_AI_DDSP/Data_preprocessing/../data/processed/Krankenhäuser in Deutschland (Krankenhausverzeichnis)/Vorbemerkungen.csv\n",
      "Saved KHV_2021 to /Users/jagadeeswarreddychennuru/Downloads/A_AI_DDSP/Data_preprocessing/../data/processed/Krankenhäuser in Deutschland (Krankenhausverzeichnis)/KHV_2021.csv\n",
      "Saved RHV_2021 to /Users/jagadeeswarreddychennuru/Downloads/A_AI_DDSP/Data_preprocessing/../data/processed/Krankenhäuser in Deutschland (Krankenhausverzeichnis)/RHV_2021.csv\n",
      "Saved DSB_KHV_2021 to /Users/jagadeeswarreddychennuru/Downloads/A_AI_DDSP/Data_preprocessing/../data/processed/Krankenhäuser in Deutschland (Krankenhausverzeichnis)/DSB_KHV_2021.csv\n",
      "Saved DSB_RHV_2021 to /Users/jagadeeswarreddychennuru/Downloads/A_AI_DDSP/Data_preprocessing/../data/processed/Krankenhäuser in Deutschland (Krankenhausverzeichnis)/DSB_RHV_2021.csv\n",
      "Saved Land to /Users/jagadeeswarreddychennuru/Downloads/A_AI_DDSP/Data_preprocessing/../data/processed/Krankenhäuser in Deutschland (Krankenhausverzeichnis)/Land.csv\n",
      "Saved Kreis to /Users/jagadeeswarreddychennuru/Downloads/A_AI_DDSP/Data_preprocessing/../data/processed/Krankenhäuser in Deutschland (Krankenhausverzeichnis)/Kreis.csv\n",
      "Saved Statistische Ämter to /Users/jagadeeswarreddychennuru/Downloads/A_AI_DDSP/Data_preprocessing/../data/processed/Krankenhäuser in Deutschland (Krankenhausverzeichnis)/Statistische Ämter.csv\n"
     ]
    }
   ],
   "source": [
    "datasetpath = \"Dataset\"\n",
    "folderpath = os.listdir(os.path.join(os.getcwd(), os.pardir, datasetpath))\n",
    "\n",
    "folderpath = [i for i in folderpath if os.path.isdir(os.path.join(os.getcwd(), os.pardir, datasetpath, i))]\n",
    "\n",
    "outputpath = os.path.join(os.getcwd(), os.pardir, \"data\", \"processed\")\n",
    "\n",
    "if not os.path.exists(outputpath):\n",
    "    os.makedirs(outputpath)\n",
    "\n",
    "for i in folderpath:\n",
    "    output_path = os.path.join(os.getcwd(), os.pardir, outputpath, i)\n",
    "    if not os.path.exists(output_path):\n",
    "        os.makedirs(output_path)\n",
    "    for j in os.listdir(os.path.join(os.getcwd(), os.pardir, datasetpath, i)):\n",
    "        j_path = os.path.join(os.getcwd(), os.pardir, datasetpath, i, j)\n",
    "        if os.path.isdir(j_path):\n",
    "            for k in os.listdir(j_path):\n",
    "                if k.endswith(\".xlsx\"):\n",
    "                    file_path = os.path.join(j_path, k)\n",
    "                    # print(f\"Processing file: {file_path}\")\n",
    "                    data = pd.ExcelFile(file_path)\n",
    "                    dfs = {sheet: data.parse(sheet) for sheet in data.sheet_names}\n",
    "                    for sheet_name, df in dfs.items():\n",
    "                        output_file = os.path.join(outputpath,i , f\"{sheet_name}.csv\")\n",
    "                        df.to_csv(output_file, index=False, header=False)\n",
    "                        print(f\"Saved {sheet_name} to {output_file}\")\n",
    "        elif j.endswith(\".xlsx\"):\n",
    "            file_path = j_path\n",
    "            # print(f\"Processing file: {file_path}\")\n",
    "            data = pd.ExcelFile(file_path)\n",
    "            dfs = {sheet: data.parse(sheet) for sheet in data.sheet_names}\n",
    "            for sheet_name, df in dfs.items():\n",
    "                output_file = os.path.join(outputpath,i , f\"{sheet_name}.csv\")\n",
    "                df.to_csv(output_file, index=False, header=False)\n",
    "                print(f\"Saved {sheet_name} to {output_file}\")\n"
   ]
  },
  {
   "cell_type": "code",
   "execution_count": null,
   "id": "1cd3a04e",
   "metadata": {},
   "outputs": [],
   "source": []
  }
 ],
 "metadata": {
  "kernelspec": {
   "display_name": "base",
   "language": "python",
   "name": "python3"
  },
  "language_info": {
   "codemirror_mode": {
    "name": "ipython",
    "version": 3
   },
   "file_extension": ".py",
   "mimetype": "text/x-python",
   "name": "python",
   "nbconvert_exporter": "python",
   "pygments_lexer": "ipython3",
   "version": "3.12.7"
  }
 },
 "nbformat": 4,
 "nbformat_minor": 5
}
